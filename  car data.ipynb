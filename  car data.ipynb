{
 "cells": [
  {
   "cell_type": "markdown",
   "id": "589c7b58",
   "metadata": {},
   "source": [
    "Content:\n",
    "Used Cars Prices\n",
    "\n",
    "Here you find 78612 records about used cars:\n",
    "<br>\n",
    "60 Brand, 382 Model, 33 Modelyear,\n",
    "<br>\n",
    "1839 CarModel, 1397 AveragePrice,\n",
    "<br>\n",
    "893 MinimumPrice, 916 MaximumPrice,\n",
    "<br>\n",
    "over 128 Months/Year."
   ]
  },
  {
   "cell_type": "markdown",
   "id": "cda0af19",
   "metadata": {},
   "source": [
    "### Some Questions you should ask yourself about.\n",
    "1.  Is there any duplicates? .\n",
    "2. What about the nulls?.\n",
    "3. Does all columns has the a correct format in its values? if its not how should you make it better?\n",
    "4. Datatypes?\n",
    "5. Before starting , after seeing some info about the dataset and from the first look on the dataset , what columns you think will not be necessary in our dataset? (io: what columns you think dropping it will be better?).\n",
    "<br>\n",
    "<br>\n",
    "feel free to wirte only their names in the next cell\n",
    "\n",
    "Double Click here to start writing\n",
    "\n"
   ]
  },
  {
   "cell_type": "code",
   "execution_count": 3,
   "id": "a1a63822",
   "metadata": {},
   "outputs": [],
   "source": [
    "#import Libraries (numpy & Pandas)\n",
    "import numpy as np \n",
    "import pandas as pd "
   ]
  },
  {
   "cell_type": "code",
   "execution_count": 4,
   "id": "f8e58ccb",
   "metadata": {},
   "outputs": [
    {
     "data": {
      "text/html": [
       "<div>\n",
       "<style scoped>\n",
       "    .dataframe tbody tr th:only-of-type {\n",
       "        vertical-align: middle;\n",
       "    }\n",
       "\n",
       "    .dataframe tbody tr th {\n",
       "        vertical-align: top;\n",
       "    }\n",
       "\n",
       "    .dataframe thead th {\n",
       "        text-align: right;\n",
       "    }\n",
       "</style>\n",
       "<table border=\"1\" class=\"dataframe\">\n",
       "  <thead>\n",
       "    <tr style=\"text-align: right;\">\n",
       "      <th></th>\n",
       "      <th>web-scraper-order</th>\n",
       "      <th>Car Model</th>\n",
       "      <th>Month/Year</th>\n",
       "      <th>Average price</th>\n",
       "      <th>Minimum price</th>\n",
       "      <th>Maximum price</th>\n",
       "    </tr>\n",
       "  </thead>\n",
       "  <tbody>\n",
       "    <tr>\n",
       "      <th>0</th>\n",
       "      <td>1680204632-1</td>\n",
       "      <td>Skoda Octavia A8 2022</td>\n",
       "      <td>2023-03</td>\n",
       "      <td>967,000 EGP</td>\n",
       "      <td>926,000 EGP</td>\n",
       "      <td>1,017,000 EGP</td>\n",
       "    </tr>\n",
       "    <tr>\n",
       "      <th>1</th>\n",
       "      <td>1680204632-2</td>\n",
       "      <td>Skoda Octavia A8 2022</td>\n",
       "      <td>2023-02</td>\n",
       "      <td>979,000 EGP</td>\n",
       "      <td>931,000 EGP</td>\n",
       "      <td>1,045,000 EGP</td>\n",
       "    </tr>\n",
       "    <tr>\n",
       "      <th>2</th>\n",
       "      <td>1680204632-3</td>\n",
       "      <td>Skoda Octavia A8 2022</td>\n",
       "      <td>2023-01</td>\n",
       "      <td>917,000 EGP</td>\n",
       "      <td>893,000 EGP</td>\n",
       "      <td>950,000 EGP</td>\n",
       "    </tr>\n",
       "    <tr>\n",
       "      <th>3</th>\n",
       "      <td>1680204632-4</td>\n",
       "      <td>Skoda Octavia A8 2022</td>\n",
       "      <td>2022-12</td>\n",
       "      <td>881,000 EGP</td>\n",
       "      <td>793,000 EGP</td>\n",
       "      <td>950,000 EGP</td>\n",
       "    </tr>\n",
       "    <tr>\n",
       "      <th>4</th>\n",
       "      <td>1680204632-5</td>\n",
       "      <td>Skoda Octavia A8 2022</td>\n",
       "      <td>2022-11</td>\n",
       "      <td>868,000 EGP</td>\n",
       "      <td>789,000 EGP</td>\n",
       "      <td>950,000 EGP</td>\n",
       "    </tr>\n",
       "    <tr>\n",
       "      <th>...</th>\n",
       "      <td>...</td>\n",
       "      <td>...</td>\n",
       "      <td>...</td>\n",
       "      <td>...</td>\n",
       "      <td>...</td>\n",
       "      <td>...</td>\n",
       "    </tr>\n",
       "    <tr>\n",
       "      <th>79085</th>\n",
       "      <td>1680204632-79086</td>\n",
       "      <td>Lada 2107 1991</td>\n",
       "      <td>2018-08</td>\n",
       "      <td>30,000 EGP</td>\n",
       "      <td>26,000 EGP</td>\n",
       "      <td>33,000 EGP</td>\n",
       "    </tr>\n",
       "    <tr>\n",
       "      <th>79086</th>\n",
       "      <td>1680204632-79087</td>\n",
       "      <td>Lada 2107 1991</td>\n",
       "      <td>2018-07</td>\n",
       "      <td>33,000 EGP</td>\n",
       "      <td>32,000 EGP</td>\n",
       "      <td>35,000 EGP</td>\n",
       "    </tr>\n",
       "    <tr>\n",
       "      <th>79087</th>\n",
       "      <td>1680204632-79088</td>\n",
       "      <td>Lada 2107 1991</td>\n",
       "      <td>2018-01</td>\n",
       "      <td>28,000 EGP</td>\n",
       "      <td>25,000 EGP</td>\n",
       "      <td>30,000 EGP</td>\n",
       "    </tr>\n",
       "    <tr>\n",
       "      <th>79088</th>\n",
       "      <td>1680204632-79089</td>\n",
       "      <td>Lada 2107 1991</td>\n",
       "      <td>2017-12</td>\n",
       "      <td>27,000 EGP</td>\n",
       "      <td>25,000 EGP</td>\n",
       "      <td>28,000 EGP</td>\n",
       "    </tr>\n",
       "    <tr>\n",
       "      <th>79089</th>\n",
       "      <td>1680204632-79090</td>\n",
       "      <td>Lada 2107 1991</td>\n",
       "      <td>2016-03</td>\n",
       "      <td>24,000 EGP</td>\n",
       "      <td>23,000 EGP</td>\n",
       "      <td>26,000 EGP</td>\n",
       "    </tr>\n",
       "  </tbody>\n",
       "</table>\n",
       "<p>79090 rows × 6 columns</p>\n",
       "</div>"
      ],
      "text/plain": [
       "      web-scraper-order              Car Model Month/Year Average price  \\\n",
       "0          1680204632-1  Skoda Octavia A8 2022    2023-03   967,000 EGP   \n",
       "1          1680204632-2  Skoda Octavia A8 2022    2023-02   979,000 EGP   \n",
       "2          1680204632-3  Skoda Octavia A8 2022    2023-01   917,000 EGP   \n",
       "3          1680204632-4  Skoda Octavia A8 2022    2022-12   881,000 EGP   \n",
       "4          1680204632-5  Skoda Octavia A8 2022    2022-11   868,000 EGP   \n",
       "...                 ...                    ...        ...           ...   \n",
       "79085  1680204632-79086         Lada 2107 1991    2018-08    30,000 EGP   \n",
       "79086  1680204632-79087         Lada 2107 1991    2018-07    33,000 EGP   \n",
       "79087  1680204632-79088         Lada 2107 1991    2018-01    28,000 EGP   \n",
       "79088  1680204632-79089         Lada 2107 1991    2017-12    27,000 EGP   \n",
       "79089  1680204632-79090         Lada 2107 1991    2016-03    24,000 EGP   \n",
       "\n",
       "      Minimum price  Maximum price  \n",
       "0       926,000 EGP  1,017,000 EGP  \n",
       "1       931,000 EGP  1,045,000 EGP  \n",
       "2       893,000 EGP    950,000 EGP  \n",
       "3       793,000 EGP    950,000 EGP  \n",
       "4       789,000 EGP    950,000 EGP  \n",
       "...             ...            ...  \n",
       "79085    26,000 EGP     33,000 EGP  \n",
       "79086    32,000 EGP     35,000 EGP  \n",
       "79087    25,000 EGP     30,000 EGP  \n",
       "79088    25,000 EGP     28,000 EGP  \n",
       "79089    23,000 EGP     26,000 EGP  \n",
       "\n",
       "[79090 rows x 6 columns]"
      ]
     },
     "execution_count": 4,
     "metadata": {},
     "output_type": "execute_result"
    }
   ],
   "source": [
    "#read Data\n",
    "Data= pd.read_csv(\"used_car_prices.csv\")\n",
    "Data"
   ]
  },
  {
   "cell_type": "code",
   "execution_count": 5,
   "id": "1fb0eac6",
   "metadata": {},
   "outputs": [
    {
     "data": {
      "text/html": [
       "<div>\n",
       "<style scoped>\n",
       "    .dataframe tbody tr th:only-of-type {\n",
       "        vertical-align: middle;\n",
       "    }\n",
       "\n",
       "    .dataframe tbody tr th {\n",
       "        vertical-align: top;\n",
       "    }\n",
       "\n",
       "    .dataframe thead th {\n",
       "        text-align: right;\n",
       "    }\n",
       "</style>\n",
       "<table border=\"1\" class=\"dataframe\">\n",
       "  <thead>\n",
       "    <tr style=\"text-align: right;\">\n",
       "      <th></th>\n",
       "      <th>web-scraper-order</th>\n",
       "      <th>Car Model</th>\n",
       "      <th>Month/Year</th>\n",
       "      <th>Average price</th>\n",
       "      <th>Minimum price</th>\n",
       "      <th>Maximum price</th>\n",
       "    </tr>\n",
       "  </thead>\n",
       "  <tbody>\n",
       "    <tr>\n",
       "      <th>0</th>\n",
       "      <td>1680204632-1</td>\n",
       "      <td>Skoda Octavia A8 2022</td>\n",
       "      <td>2023-03</td>\n",
       "      <td>967,000 EGP</td>\n",
       "      <td>926,000 EGP</td>\n",
       "      <td>1,017,000 EGP</td>\n",
       "    </tr>\n",
       "    <tr>\n",
       "      <th>1</th>\n",
       "      <td>1680204632-2</td>\n",
       "      <td>Skoda Octavia A8 2022</td>\n",
       "      <td>2023-02</td>\n",
       "      <td>979,000 EGP</td>\n",
       "      <td>931,000 EGP</td>\n",
       "      <td>1,045,000 EGP</td>\n",
       "    </tr>\n",
       "    <tr>\n",
       "      <th>2</th>\n",
       "      <td>1680204632-3</td>\n",
       "      <td>Skoda Octavia A8 2022</td>\n",
       "      <td>2023-01</td>\n",
       "      <td>917,000 EGP</td>\n",
       "      <td>893,000 EGP</td>\n",
       "      <td>950,000 EGP</td>\n",
       "    </tr>\n",
       "    <tr>\n",
       "      <th>3</th>\n",
       "      <td>1680204632-4</td>\n",
       "      <td>Skoda Octavia A8 2022</td>\n",
       "      <td>2022-12</td>\n",
       "      <td>881,000 EGP</td>\n",
       "      <td>793,000 EGP</td>\n",
       "      <td>950,000 EGP</td>\n",
       "    </tr>\n",
       "    <tr>\n",
       "      <th>4</th>\n",
       "      <td>1680204632-5</td>\n",
       "      <td>Skoda Octavia A8 2022</td>\n",
       "      <td>2022-11</td>\n",
       "      <td>868,000 EGP</td>\n",
       "      <td>789,000 EGP</td>\n",
       "      <td>950,000 EGP</td>\n",
       "    </tr>\n",
       "    <tr>\n",
       "      <th>5</th>\n",
       "      <td>1680204632-6</td>\n",
       "      <td>Skoda Octavia A8 2022</td>\n",
       "      <td>2022-10</td>\n",
       "      <td>797,000 EGP</td>\n",
       "      <td>789,000 EGP</td>\n",
       "      <td>808,000 EGP</td>\n",
       "    </tr>\n",
       "    <tr>\n",
       "      <th>6</th>\n",
       "      <td>1680204632-7</td>\n",
       "      <td>Skoda Octavia A8 2022</td>\n",
       "      <td>2022-09</td>\n",
       "      <td>837,000 EGP</td>\n",
       "      <td>770,000 EGP</td>\n",
       "      <td>874,000 EGP</td>\n",
       "    </tr>\n",
       "    <tr>\n",
       "      <th>7</th>\n",
       "      <td>1680204632-8</td>\n",
       "      <td>Skoda Octavia A8 2022</td>\n",
       "      <td>2022-08</td>\n",
       "      <td>779,000 EGP</td>\n",
       "      <td>722,000 EGP</td>\n",
       "      <td>855,000 EGP</td>\n",
       "    </tr>\n",
       "  </tbody>\n",
       "</table>\n",
       "</div>"
      ],
      "text/plain": [
       "  web-scraper-order              Car Model Month/Year Average price  \\\n",
       "0      1680204632-1  Skoda Octavia A8 2022    2023-03   967,000 EGP   \n",
       "1      1680204632-2  Skoda Octavia A8 2022    2023-02   979,000 EGP   \n",
       "2      1680204632-3  Skoda Octavia A8 2022    2023-01   917,000 EGP   \n",
       "3      1680204632-4  Skoda Octavia A8 2022    2022-12   881,000 EGP   \n",
       "4      1680204632-5  Skoda Octavia A8 2022    2022-11   868,000 EGP   \n",
       "5      1680204632-6  Skoda Octavia A8 2022    2022-10   797,000 EGP   \n",
       "6      1680204632-7  Skoda Octavia A8 2022    2022-09   837,000 EGP   \n",
       "7      1680204632-8  Skoda Octavia A8 2022    2022-08   779,000 EGP   \n",
       "\n",
       "  Minimum price  Maximum price  \n",
       "0   926,000 EGP  1,017,000 EGP  \n",
       "1   931,000 EGP  1,045,000 EGP  \n",
       "2   893,000 EGP    950,000 EGP  \n",
       "3   793,000 EGP    950,000 EGP  \n",
       "4   789,000 EGP    950,000 EGP  \n",
       "5   789,000 EGP    808,000 EGP  \n",
       "6   770,000 EGP    874,000 EGP  \n",
       "7   722,000 EGP    855,000 EGP  "
      ]
     },
     "execution_count": 5,
     "metadata": {},
     "output_type": "execute_result"
    }
   ],
   "source": [
    "#print the first 8 row\n",
    "Data.head(8)"
   ]
  },
  {
   "cell_type": "code",
   "execution_count": 6,
   "id": "ecea3d4c",
   "metadata": {},
   "outputs": [
    {
     "data": {
      "text/plain": [
       "(79090, 6)"
      ]
     },
     "execution_count": 6,
     "metadata": {},
     "output_type": "execute_result"
    }
   ],
   "source": [
    "#print the shape Like (There are 84548 rows and 22 columns)\n",
    "Data.shape "
   ]
  },
  {
   "cell_type": "code",
   "execution_count": 7,
   "id": "75a65e2a",
   "metadata": {},
   "outputs": [
    {
     "name": "stdout",
     "output_type": "stream",
     "text": [
      "<class 'pandas.core.frame.DataFrame'>\n",
      "RangeIndex: 79090 entries, 0 to 79089\n",
      "Data columns (total 6 columns):\n",
      " #   Column             Non-Null Count  Dtype \n",
      "---  ------             --------------  ----- \n",
      " 0   web-scraper-order  79090 non-null  object\n",
      " 1   Car Model          79090 non-null  object\n",
      " 2   Month/Year         78612 non-null  object\n",
      " 3   Average price      78612 non-null  object\n",
      " 4   Minimum price      78612 non-null  object\n",
      " 5   Maximum price      78612 non-null  object\n",
      "dtypes: object(6)\n",
      "memory usage: 3.6+ MB\n"
     ]
    }
   ],
   "source": [
    "# try seeing some information about the data\n",
    "Data.info()"
   ]
  },
  {
   "cell_type": "code",
   "execution_count": 8,
   "id": "390581cb",
   "metadata": {},
   "outputs": [
    {
     "data": {
      "text/plain": [
       "<bound method DataFrame.duplicated of       web-scraper-order              Car Model Month/Year Average price  \\\n",
       "0          1680204632-1  Skoda Octavia A8 2022    2023-03   967,000 EGP   \n",
       "1          1680204632-2  Skoda Octavia A8 2022    2023-02   979,000 EGP   \n",
       "2          1680204632-3  Skoda Octavia A8 2022    2023-01   917,000 EGP   \n",
       "3          1680204632-4  Skoda Octavia A8 2022    2022-12   881,000 EGP   \n",
       "4          1680204632-5  Skoda Octavia A8 2022    2022-11   868,000 EGP   \n",
       "...                 ...                    ...        ...           ...   \n",
       "79085  1680204632-79086         Lada 2107 1991    2018-08    30,000 EGP   \n",
       "79086  1680204632-79087         Lada 2107 1991    2018-07    33,000 EGP   \n",
       "79087  1680204632-79088         Lada 2107 1991    2018-01    28,000 EGP   \n",
       "79088  1680204632-79089         Lada 2107 1991    2017-12    27,000 EGP   \n",
       "79089  1680204632-79090         Lada 2107 1991    2016-03    24,000 EGP   \n",
       "\n",
       "      Minimum price  Maximum price  \n",
       "0       926,000 EGP  1,017,000 EGP  \n",
       "1       931,000 EGP  1,045,000 EGP  \n",
       "2       893,000 EGP    950,000 EGP  \n",
       "3       793,000 EGP    950,000 EGP  \n",
       "4       789,000 EGP    950,000 EGP  \n",
       "...             ...            ...  \n",
       "79085    26,000 EGP     33,000 EGP  \n",
       "79086    32,000 EGP     35,000 EGP  \n",
       "79087    25,000 EGP     30,000 EGP  \n",
       "79088    25,000 EGP     28,000 EGP  \n",
       "79089    23,000 EGP     26,000 EGP  \n",
       "\n",
       "[79090 rows x 6 columns]>"
      ]
     },
     "execution_count": 8,
     "metadata": {},
     "output_type": "execute_result"
    }
   ],
   "source": [
    "# show the number of duplicates here\n",
    "Data.duplicated"
   ]
  },
  {
   "cell_type": "code",
   "execution_count": 9,
   "id": "d761f808",
   "metadata": {},
   "outputs": [
    {
     "data": {
      "text/plain": [
       "0"
      ]
     },
     "execution_count": 9,
     "metadata": {},
     "output_type": "execute_result"
    }
   ],
   "source": [
    "Data.duplicated().sum()"
   ]
  },
  {
   "cell_type": "code",
   "execution_count": 10,
   "id": "06f9a27e",
   "metadata": {},
   "outputs": [
    {
     "data": {
      "text/plain": [
       "web-scraper-order      0\n",
       "Car Model              0\n",
       "Month/Year           478\n",
       "Average price        478\n",
       "Minimum price        478\n",
       "Maximum price        478\n",
       "dtype: int64"
      ]
     },
     "execution_count": 10,
     "metadata": {},
     "output_type": "execute_result"
    }
   ],
   "source": [
    "# show number of nulls\n",
    "Data.isnull().sum() "
   ]
  },
  {
   "cell_type": "code",
   "execution_count": 11,
   "id": "90719a09",
   "metadata": {},
   "outputs": [
    {
     "data": {
      "text/plain": [
       "Index(['web-scraper-order', 'Car Model', 'Month/Year', 'Average price',\n",
       "       'Minimum price', 'Maximum price'],\n",
       "      dtype='object')"
      ]
     },
     "execution_count": 11,
     "metadata": {},
     "output_type": "execute_result"
    }
   ],
   "source": [
    "# updated the column names Like(To Start with Upper Litter)\n",
    "data=Data.columns \n",
    "data"
   ]
  },
  {
   "cell_type": "code",
   "execution_count": 12,
   "id": "eba1adcc",
   "metadata": {},
   "outputs": [
    {
     "data": {
      "text/plain": [
       "Index(['Web-scraper-order', 'Car model', 'Month/year', 'Average price',\n",
       "       'Minimum price', 'Maximum price'],\n",
       "      dtype='object')"
      ]
     },
     "execution_count": 12,
     "metadata": {},
     "output_type": "execute_result"
    }
   ],
   "source": [
    "data.str.capitalize()"
   ]
  },
  {
   "cell_type": "code",
   "execution_count": 77,
   "id": "e62ee7f7",
   "metadata": {},
   "outputs": [
    {
     "data": {
      "text/html": [
       "<div>\n",
       "<style scoped>\n",
       "    .dataframe tbody tr th:only-of-type {\n",
       "        vertical-align: middle;\n",
       "    }\n",
       "\n",
       "    .dataframe tbody tr th {\n",
       "        vertical-align: top;\n",
       "    }\n",
       "\n",
       "    .dataframe thead th {\n",
       "        text-align: right;\n",
       "    }\n",
       "</style>\n",
       "<table border=\"1\" class=\"dataframe\">\n",
       "  <thead>\n",
       "    <tr style=\"text-align: right;\">\n",
       "      <th></th>\n",
       "      <th>Brand</th>\n",
       "      <th>Model</th>\n",
       "      <th>Year</th>\n",
       "    </tr>\n",
       "  </thead>\n",
       "  <tbody>\n",
       "    <tr>\n",
       "      <th>0</th>\n",
       "      <td>[Skoda, Octavia]</td>\n",
       "      <td>A8</td>\n",
       "      <td>2022</td>\n",
       "    </tr>\n",
       "    <tr>\n",
       "      <th>1</th>\n",
       "      <td>[Skoda, Octavia]</td>\n",
       "      <td>A8</td>\n",
       "      <td>2022</td>\n",
       "    </tr>\n",
       "    <tr>\n",
       "      <th>2</th>\n",
       "      <td>[Skoda, Octavia]</td>\n",
       "      <td>A8</td>\n",
       "      <td>2022</td>\n",
       "    </tr>\n",
       "    <tr>\n",
       "      <th>3</th>\n",
       "      <td>[Skoda, Octavia]</td>\n",
       "      <td>A8</td>\n",
       "      <td>2022</td>\n",
       "    </tr>\n",
       "    <tr>\n",
       "      <th>4</th>\n",
       "      <td>[Skoda, Octavia]</td>\n",
       "      <td>A8</td>\n",
       "      <td>2022</td>\n",
       "    </tr>\n",
       "    <tr>\n",
       "      <th>...</th>\n",
       "      <td>...</td>\n",
       "      <td>...</td>\n",
       "      <td>...</td>\n",
       "    </tr>\n",
       "    <tr>\n",
       "      <th>79085</th>\n",
       "      <td>[Lada, 2107]</td>\n",
       "      <td>1991</td>\n",
       "      <td>NaN</td>\n",
       "    </tr>\n",
       "    <tr>\n",
       "      <th>79086</th>\n",
       "      <td>[Lada, 2107]</td>\n",
       "      <td>1991</td>\n",
       "      <td>NaN</td>\n",
       "    </tr>\n",
       "    <tr>\n",
       "      <th>79087</th>\n",
       "      <td>[Lada, 2107]</td>\n",
       "      <td>1991</td>\n",
       "      <td>NaN</td>\n",
       "    </tr>\n",
       "    <tr>\n",
       "      <th>79088</th>\n",
       "      <td>[Lada, 2107]</td>\n",
       "      <td>1991</td>\n",
       "      <td>NaN</td>\n",
       "    </tr>\n",
       "    <tr>\n",
       "      <th>79089</th>\n",
       "      <td>[Lada, 2107]</td>\n",
       "      <td>1991</td>\n",
       "      <td>NaN</td>\n",
       "    </tr>\n",
       "  </tbody>\n",
       "</table>\n",
       "<p>79090 rows × 3 columns</p>\n",
       "</div>"
      ],
      "text/plain": [
       "                  Brand Model  Year\n",
       "0      [Skoda, Octavia]    A8  2022\n",
       "1      [Skoda, Octavia]    A8  2022\n",
       "2      [Skoda, Octavia]    A8  2022\n",
       "3      [Skoda, Octavia]    A8  2022\n",
       "4      [Skoda, Octavia]    A8  2022\n",
       "...                 ...   ...   ...\n",
       "79085      [Lada, 2107]  1991   NaN\n",
       "79086      [Lada, 2107]  1991   NaN\n",
       "79087      [Lada, 2107]  1991   NaN\n",
       "79088      [Lada, 2107]  1991   NaN\n",
       "79089      [Lada, 2107]  1991   NaN\n",
       "\n",
       "[79090 rows x 3 columns]"
      ]
     },
     "execution_count": 77,
     "metadata": {},
     "output_type": "execute_result"
    }
   ],
   "source": [
    "# Split Car Full Data into Brand, Model, And Year of The Model\n",
    "Data['Brand'] = Data['Car Model'].str.split().str[0:2]\n",
    "Data['Model'] = Data['Car Model'].str.split().str[2]\n",
    "Data['Year'] = Data['Car Model'].str.split().str[3]\n",
    "Data[[\"Brand\",'Model','Year']] "
   ]
  },
  {
   "cell_type": "code",
   "execution_count": 78,
   "id": "93051b94",
   "metadata": {},
   "outputs": [
    {
     "data": {
      "text/html": [
       "<div>\n",
       "<style scoped>\n",
       "    .dataframe tbody tr th:only-of-type {\n",
       "        vertical-align: middle;\n",
       "    }\n",
       "\n",
       "    .dataframe tbody tr th {\n",
       "        vertical-align: top;\n",
       "    }\n",
       "\n",
       "    .dataframe thead th {\n",
       "        text-align: right;\n",
       "    }\n",
       "</style>\n",
       "<table border=\"1\" class=\"dataframe\">\n",
       "  <thead>\n",
       "    <tr style=\"text-align: right;\">\n",
       "      <th></th>\n",
       "      <th>Year</th>\n",
       "      <th>Month</th>\n",
       "    </tr>\n",
       "  </thead>\n",
       "  <tbody>\n",
       "    <tr>\n",
       "      <th>0</th>\n",
       "      <td>2023</td>\n",
       "      <td>03</td>\n",
       "    </tr>\n",
       "    <tr>\n",
       "      <th>1</th>\n",
       "      <td>2023</td>\n",
       "      <td>02</td>\n",
       "    </tr>\n",
       "    <tr>\n",
       "      <th>2</th>\n",
       "      <td>2023</td>\n",
       "      <td>01</td>\n",
       "    </tr>\n",
       "    <tr>\n",
       "      <th>3</th>\n",
       "      <td>2022</td>\n",
       "      <td>12</td>\n",
       "    </tr>\n",
       "    <tr>\n",
       "      <th>4</th>\n",
       "      <td>2022</td>\n",
       "      <td>11</td>\n",
       "    </tr>\n",
       "    <tr>\n",
       "      <th>...</th>\n",
       "      <td>...</td>\n",
       "      <td>...</td>\n",
       "    </tr>\n",
       "    <tr>\n",
       "      <th>79085</th>\n",
       "      <td>2018</td>\n",
       "      <td>08</td>\n",
       "    </tr>\n",
       "    <tr>\n",
       "      <th>79086</th>\n",
       "      <td>2018</td>\n",
       "      <td>07</td>\n",
       "    </tr>\n",
       "    <tr>\n",
       "      <th>79087</th>\n",
       "      <td>2018</td>\n",
       "      <td>01</td>\n",
       "    </tr>\n",
       "    <tr>\n",
       "      <th>79088</th>\n",
       "      <td>2017</td>\n",
       "      <td>12</td>\n",
       "    </tr>\n",
       "    <tr>\n",
       "      <th>79089</th>\n",
       "      <td>2016</td>\n",
       "      <td>03</td>\n",
       "    </tr>\n",
       "  </tbody>\n",
       "</table>\n",
       "<p>79090 rows × 2 columns</p>\n",
       "</div>"
      ],
      "text/plain": [
       "       Year Month\n",
       "0      2023    03\n",
       "1      2023    02\n",
       "2      2023    01\n",
       "3      2022    12\n",
       "4      2022    11\n",
       "...     ...   ...\n",
       "79085  2018    08\n",
       "79086  2018    07\n",
       "79087  2018    01\n",
       "79088  2017    12\n",
       "79089  2016    03\n",
       "\n",
       "[79090 rows x 2 columns]"
      ]
     },
     "execution_count": 78,
     "metadata": {},
     "output_type": "execute_result"
    }
   ],
   "source": [
    "#Split Month/Year Column to Year and Month\n",
    "Data[\"Month\"]=Data[\"Month/Year\"].str.split(\"-\").str[1]\n",
    "Data[\"Year\"]=Data[\"Month/Year\"].str.split(\"-\").str[0]\n",
    "Data[[\"Year\",\"Month\"]]\n"
   ]
  },
  {
   "cell_type": "code",
   "execution_count": 152,
   "id": "5e6e05ff",
   "metadata": {},
   "outputs": [
    {
     "data": {
      "text/plain": [
       "dtype('float64')"
      ]
     },
     "execution_count": 152,
     "metadata": {},
     "output_type": "execute_result"
    }
   ],
   "source": [
    "Data['Average price'] = Data['Average price'].replace('EGP', '')\n",
    "Data['Average price'] = Data['Average price'].astype(float)\n",
    "Data['Average price'].dtype"
   ]
  },
  {
   "cell_type": "code",
   "execution_count": 154,
   "id": "be541fdb",
   "metadata": {},
   "outputs": [
    {
     "data": {
      "text/plain": [
       "dtype('float64')"
      ]
     },
     "execution_count": 154,
     "metadata": {},
     "output_type": "execute_result"
    }
   ],
   "source": [
    "Data['Minimum price '] = Data['Minimum price'].replace('EGP', '')\n",
    "Data['Minimum price '] = Data['Minimum price'].astype(float)\n",
    "Data['Minimum price '].dtype"
   ]
  },
  {
   "cell_type": "code",
   "execution_count": 159,
   "id": "584cc877",
   "metadata": {},
   "outputs": [
    {
     "data": {
      "text/plain": [
       "0       NaN\n",
       "1       NaN\n",
       "2       NaN\n",
       "3       NaN\n",
       "4       NaN\n",
       "         ..\n",
       "79085   NaN\n",
       "79086   NaN\n",
       "79087   NaN\n",
       "79088   NaN\n",
       "79089   NaN\n",
       "Name: Minimum price , Length: 79090, dtype: float64"
      ]
     },
     "execution_count": 159,
     "metadata": {},
     "output_type": "execute_result"
    }
   ],
   "source": [
    "Data['Minimum price ']"
   ]
  },
  {
   "cell_type": "markdown",
   "id": "ad662fb2",
   "metadata": {},
   "source": [
    "#let's start with (Average price ,Minimum price ,Maximum price ) , see the number of nulls in them , #replace these nulls with the ( mean , median and mode) of these columns\n",
    "#and in the end check that there are not nulls in data "
   ]
  },
  {
   "cell_type": "code",
   "execution_count": 156,
   "id": "fa00c6c3",
   "metadata": {},
   "outputs": [
    {
     "data": {
      "text/plain": [
       "79090"
      ]
     },
     "execution_count": 156,
     "metadata": {},
     "output_type": "execute_result"
    }
   ],
   "source": [
    "#Average price \n",
    "Data[\"Average price\"].isnull().sum()"
   ]
  },
  {
   "cell_type": "code",
   "execution_count": 157,
   "id": "a6b48d0e",
   "metadata": {},
   "outputs": [],
   "source": [
    "###\n",
    "columns_to_handle = ['Average price', 'Minimum price', 'Maximum price']\n",
    "for column in columns_to_handle:\n",
    "    mean_value = Data[column].mean()\n",
    "    Data[column].fillna(mean_value, inplace=True)"
   ]
  },
  {
   "cell_type": "code",
   "execution_count": 158,
   "id": "184123cb",
   "metadata": {},
   "outputs": [
    {
     "data": {
      "text/plain": [
       "Average price    79090\n",
       "Minimum price    79090\n",
       "Maximum price    79090\n",
       "dtype: int64"
      ]
     },
     "execution_count": 158,
     "metadata": {},
     "output_type": "execute_result"
    }
   ],
   "source": [
    "Data[columns_to_handle].isnull().sum()"
   ]
  },
  {
   "cell_type": "code",
   "execution_count": 148,
   "id": "405ebb94",
   "metadata": {},
   "outputs": [],
   "source": [
    "Data[column].fillna(mean_value, inplace=True)"
   ]
  },
  {
   "cell_type": "code",
   "execution_count": 133,
   "id": "cf64c73b",
   "metadata": {},
   "outputs": [
    {
     "data": {
      "text/plain": [
       "web-scraper-order        0\n",
       "Car Model                0\n",
       "Month/Year             478\n",
       "Average price        79090\n",
       "Minimum price        79090\n",
       "Maximum price        79090\n",
       "Brand                    0\n",
       "Model                    0\n",
       "Year                   478\n",
       "Month                  478\n",
       "dtype: int64"
      ]
     },
     "execution_count": 133,
     "metadata": {},
     "output_type": "execute_result"
    }
   ],
   "source": [
    " Data.isnull().sum()"
   ]
  },
  {
   "cell_type": "code",
   "execution_count": null,
   "id": "04f8bd8d",
   "metadata": {},
   "outputs": [],
   "source": []
  }
 ],
 "metadata": {
  "kernelspec": {
   "display_name": "Python 3 (ipykernel)",
   "language": "python",
   "name": "python3"
  },
  "language_info": {
   "codemirror_mode": {
    "name": "ipython",
    "version": 3
   },
   "file_extension": ".py",
   "mimetype": "text/x-python",
   "name": "python",
   "nbconvert_exporter": "python",
   "pygments_lexer": "ipython3",
   "version": "3.9.13"
  }
 },
 "nbformat": 4,
 "nbformat_minor": 5
}
